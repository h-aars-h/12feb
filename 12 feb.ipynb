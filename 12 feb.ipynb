{
 "cells": [
  {
   "cell_type": "code",
   "execution_count": 1,
   "id": "82a0ef3d-4849-45be-b87f-1692b7582b13",
   "metadata": {},
   "outputs": [],
   "source": [
    "# Q1. What is an Exaception in python? Write the difference between Excaeptions and \n",
    "# syntax errors ?\n",
    "# Ans 2= The exception is way to the excute the code and the in python, an exception is an error that \n",
    "# occurs during the execution of a program and that will not exccute and but the program is runnig succesfully and\n",
    "# and the syntax error is whole is any one point any so all program is could't not be run ."
   ]
  },
  {
   "cell_type": "code",
   "execution_count": 9,
   "id": "360ebc7c-a15b-4060-bd0d-e573d07d3d5b",
   "metadata": {},
   "outputs": [
    {
     "name": "stdout",
     "output_type": "stream",
     "text": [
      "the no is not divided division by zero\n"
     ]
    }
   ],
   "source": [
    "# Q2. What happens when an exception is not handled? Explain with an example.\n",
    "# Ans 2 the runtime system will abort the program and an exception message will print to the console. and when the milllion of the\n",
    "# will be try to put the code on exception handling we put the try and exception.\n",
    "# example\n",
    "a=10 # here we divide \n",
    "try:\n",
    "    a/0\n",
    "except Exception as e:\n",
    "    print(\"the no is not divided\", e)\n",
    "else :\n",
    "    print(\"this no is divided \")\n"
   ]
  },
  {
   "cell_type": "code",
   "execution_count": 10,
   "id": "83acf992-e948-4ac7-b952-81fbb15b381a",
   "metadata": {},
   "outputs": [
    {
     "name": "stdout",
     "output_type": "stream",
     "text": [
      "the no is not divided division by zero\n",
      "division is succesfully\n"
     ]
    }
   ],
   "source": [
    "# Q3. Which Python statements are used to catch and handle exceptions? Explain with an example.\n",
    "# Ans3= Here is all python statments are used first we try to put the condtoin and then exception is \n",
    "# way to what is error and the massage is also print when the code some error and else is the condtion when except not excuted\n",
    "# and always everytime to we put the code in finally .\n",
    "a=10 # here we divide \n",
    "try:\n",
    "    a/0\n",
    "except Exception as e:\n",
    "    print(\"the no is not divided\", e)\n",
    "else :\n",
    "    print(\"this no is divided \")\n",
    "finally:\n",
    "    print(\"division is succesfully\")"
   ]
  },
  {
   "cell_type": "code",
   "execution_count": 5,
   "id": "1e6680dd-9f0c-45b7-a5d0-6bb9fbe0453b",
   "metadata": {},
   "outputs": [
    {
     "name": "stdout",
     "output_type": "stream",
     "text": [
      "the no is not divided division by zero\n",
      "division is succesfully\n",
      "33\n"
     ]
    },
    {
     "ename": "ValueError",
     "evalue": "Invalid year of birth.",
     "output_type": "error",
     "traceback": [
      "\u001b[0;31m---------------------------------------------------------------------------\u001b[0m",
      "\u001b[0;31mValueError\u001b[0m                                Traceback (most recent call last)",
      "Cell \u001b[0;32mIn [5], line 29\u001b[0m\n\u001b[1;32m     26\u001b[0m     \u001b[38;5;28;01mreturn\u001b[39;00m age\n\u001b[1;32m     28\u001b[0m \u001b[38;5;28mprint\u001b[39m(calculate_age(\u001b[38;5;241m1990\u001b[39m))\n\u001b[0;32m---> 29\u001b[0m \u001b[38;5;28;01mraise\u001b[39;00m \u001b[38;5;28mprint\u001b[39m(\u001b[43mcalculate_age\u001b[49m\u001b[43m(\u001b[49m\u001b[38;5;241;43m2040\u001b[39;49m\u001b[43m)\u001b[49m)\n",
      "Cell \u001b[0;32mIn [5], line 25\u001b[0m, in \u001b[0;36mcalculate_age\u001b[0;34m(year_of_birth)\u001b[0m\n\u001b[1;32m     23\u001b[0m age \u001b[38;5;241m=\u001b[39m current_year \u001b[38;5;241m-\u001b[39m year_of_birth\n\u001b[1;32m     24\u001b[0m \u001b[38;5;28;01mif\u001b[39;00m age \u001b[38;5;241m<\u001b[39m \u001b[38;5;241m0\u001b[39m:\n\u001b[0;32m---> 25\u001b[0m     \u001b[38;5;28;01mraise\u001b[39;00m \u001b[38;5;167;01mValueError\u001b[39;00m(\u001b[38;5;124m\"\u001b[39m\u001b[38;5;124mInvalid year of birth.\u001b[39m\u001b[38;5;124m\"\u001b[39m)\n\u001b[1;32m     26\u001b[0m \u001b[38;5;28;01mreturn\u001b[39;00m age\n",
      "\u001b[0;31mValueError\u001b[0m: Invalid year of birth."
     ]
    }
   ],
   "source": [
    "# Q4. Explain with an example:\n",
    "# a.\ttry and else\n",
    "# b.\tfinally\n",
    "# raise In Python, the raise keyword is used to explicitly raise an exception. \n",
    "# It is typically used when you want to indicate that an error has occurred in your code and \n",
    "# there is no built-in exception that fits the situation.\n",
    "#  Ans4 \n",
    " # a.\ttry and else - In Python, the try and else blocks are used together to handle exceptions.\n",
    "    # The try block is used to enclose code that might raise an exception, while the else block is used to\n",
    "    # enclose code that should be executed if no exception is raised.\n",
    "     # b.\tfinally this is when condtion i always do always in code here the finally is always executed just we always excute.\n",
    "a=10 \n",
    "try:\n",
    "    a/0\n",
    "except Exception as e:\n",
    "    print(\"the no is not divided\", e)\n",
    "else :\n",
    "    print(\"this no is divided \")\n",
    "finally:\n",
    "    print(\"division is succesfully\")\n",
    "def calculate_age(year_of_birth):\n",
    "    current_year = 2023\n",
    "    age = current_year - year_of_birth\n",
    "    if age < 0:\n",
    "        raise ValueError(\"Invalid year of birth.\")\n",
    "    return age\n",
    "\n",
    "print(calculate_age(1990))\n",
    "raise print(calculate_age(2040))\n"
   ]
  },
  {
   "cell_type": "code",
   "execution_count": 13,
   "id": "c454e215-7ad9-4035-a47b-013ac53b71da",
   "metadata": {},
   "outputs": [
    {
     "name": "stdin",
     "output_type": "stream",
     "text": [
      "enter the age 23\n"
     ]
    },
    {
     "name": "stdout",
     "output_type": "stream",
     "text": [
      "age is valid and \n"
     ]
    }
   ],
   "source": [
    "# Q5. What are Custom Exceptions in python? Why do we need Custom Exceptions? Explain with an example.\n",
    "# Ans 5 Custom Exceptions in python used for making custom method for user and create and this is helping\n",
    "# for using except something to execute some condtion\n",
    "# Example\n",
    "class valid_age(Exception):\n",
    "    def __init__(self,msg):\n",
    "        self.msg=msg \n",
    "def vaildage(age):\n",
    "    if age<0:\n",
    "        raise valid_age(\"entered the valid age is negative\")\n",
    "    elif age>200:\n",
    "        raise valid_age(\"please enterd the valid age is very high\")\n",
    "    else: \n",
    "        print(\"age is valid and \")\n",
    "try: \n",
    "    age=int(input(\"enter the age\"))\n",
    "    vaildage(age)\n",
    "except vaildage as e :\n",
    "    print(e)"
   ]
  },
  {
   "cell_type": "code",
   "execution_count": 14,
   "id": "f8ff4808-d9a2-4c68-bd6d-8e2ad9749de4",
   "metadata": {},
   "outputs": [
    {
     "name": "stdout",
     "output_type": "stream",
     "text": [
      "Input must be an integer!\n"
     ]
    }
   ],
   "source": [
    "# Q6. Create a custom exception class. Use this class to handle an exception\n",
    "# ans 6 =\n",
    "class InvalidInputError(Exception):\n",
    "    pass\n",
    "\n",
    "def square_number(num):\n",
    "    if not isinstance(num, int):\n",
    "        raise InvalidInputError(\"Input must be an integer!\")\n",
    "    return num ** 2\n",
    "\n",
    "try:\n",
    "    result = square_number(\"hello\")\n",
    "except InvalidInputError as e:\n",
    "    print(e)\n",
    "else:\n",
    "    print(result)\n"
   ]
  },
  {
   "cell_type": "code",
   "execution_count": null,
   "id": "c1c3996f-8e33-4f04-a2cc-0e3989c95ecc",
   "metadata": {},
   "outputs": [],
   "source": []
  }
 ],
 "metadata": {
  "kernelspec": {
   "display_name": "Python 3 (ipykernel)",
   "language": "python",
   "name": "python3"
  },
  "language_info": {
   "codemirror_mode": {
    "name": "ipython",
    "version": 3
   },
   "file_extension": ".py",
   "mimetype": "text/x-python",
   "name": "python",
   "nbconvert_exporter": "python",
   "pygments_lexer": "ipython3",
   "version": "3.10.6"
  }
 },
 "nbformat": 4,
 "nbformat_minor": 5
}
